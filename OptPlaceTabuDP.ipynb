{
  "nbformat": 4,
  "nbformat_minor": 0,
  "metadata": {
    "colab": {
      "name": "OptPlaceTabuDP.ipynb",
      "provenance": [],
      "collapsed_sections": []
    },
    "kernelspec": {
      "name": "python3",
      "display_name": "Python 3"
    },
    "language_info": {
      "name": "python"
    }
  },
  "cells": [
    {
      "cell_type": "markdown",
      "source": [
        "#Optimal placement to minimize the time it takes for a pallet rack machine to pick up items for different orders."
      ],
      "metadata": {
        "id": "qGgk1HEjfs48"
      }
    },
    {
      "cell_type": "markdown",
      "source": [
        "A machine that goes through a pallet rack to pick up items for an order can be seen as a traveling salesman problem.\n",
        "Which path should the machine take to minimize the distance?\n",
        "But we need also to take into an account that there could be several types of orders containing a different set of items, and that we can choose the placement of the items in the pallet rack.\n",
        "We get a bilevel optimization problem. First must choose an item placement that in turn optimizes the length the machine has to travel to be able to safices all the orders."
      ],
      "metadata": {
        "id": "N3fb_e0manUl"
      }
    },
    {
      "cell_type": "code",
      "execution_count": 5,
      "metadata": {
        "id": "AYAZRlpigUAX",
        "colab": {
          "base_uri": "https://localhost:8080/"
        },
        "outputId": "0a7c7e13-7991-4c3b-eece-892e83243339"
      },
      "outputs": [
        {
          "output_type": "stream",
          "name": "stdout",
          "text": [
            "Looking in indexes: https://pypi.org/simple, https://us-python.pkg.dev/colab-wheels/public/simple/\n",
            "Collecting python-tsp\n",
            "  Downloading python_tsp-0.3.0-py3-none-any.whl (17 kB)\n",
            "Requirement already satisfied: numpy in /usr/local/lib/python3.7/dist-packages (from python-tsp) (1.21.6)\n",
            "Collecting requests<3.0.0,>=2.28.0\n",
            "  Downloading requests-2.28.1-py3-none-any.whl (62 kB)\n",
            "\u001b[K     |████████████████████████████████| 62 kB 1.3 MB/s \n",
            "\u001b[?25hCollecting tsplib95<0.8.0,>=0.7.1\n",
            "  Downloading tsplib95-0.7.1-py2.py3-none-any.whl (25 kB)\n",
            "Requirement already satisfied: certifi>=2017.4.17 in /usr/local/lib/python3.7/dist-packages (from requests<3.0.0,>=2.28.0->python-tsp) (2022.6.15)\n",
            "Requirement already satisfied: idna<4,>=2.5 in /usr/local/lib/python3.7/dist-packages (from requests<3.0.0,>=2.28.0->python-tsp) (2.10)\n",
            "Requirement already satisfied: urllib3<1.27,>=1.21.1 in /usr/local/lib/python3.7/dist-packages (from requests<3.0.0,>=2.28.0->python-tsp) (1.24.3)\n",
            "Requirement already satisfied: charset-normalizer<3,>=2 in /usr/local/lib/python3.7/dist-packages (from requests<3.0.0,>=2.28.0->python-tsp) (2.1.0)\n",
            "Collecting Deprecated~=1.2.9\n",
            "  Downloading Deprecated-1.2.13-py2.py3-none-any.whl (9.6 kB)\n",
            "Requirement already satisfied: tabulate~=0.8.7 in /usr/local/lib/python3.7/dist-packages (from tsplib95<0.8.0,>=0.7.1->python-tsp) (0.8.10)\n",
            "Requirement already satisfied: Click>=6.0 in /usr/local/lib/python3.7/dist-packages (from tsplib95<0.8.0,>=0.7.1->python-tsp) (7.1.2)\n",
            "Requirement already satisfied: networkx~=2.1 in /usr/local/lib/python3.7/dist-packages (from tsplib95<0.8.0,>=0.7.1->python-tsp) (2.6.3)\n",
            "Requirement already satisfied: wrapt<2,>=1.10 in /usr/local/lib/python3.7/dist-packages (from Deprecated~=1.2.9->tsplib95<0.8.0,>=0.7.1->python-tsp) (1.14.1)\n",
            "Installing collected packages: Deprecated, tsplib95, requests, python-tsp\n",
            "  Attempting uninstall: requests\n",
            "    Found existing installation: requests 2.23.0\n",
            "    Uninstalling requests-2.23.0:\n",
            "      Successfully uninstalled requests-2.23.0\n",
            "\u001b[31mERROR: pip's dependency resolver does not currently take into account all the packages that are installed. This behaviour is the source of the following dependency conflicts.\n",
            "google-colab 1.0.0 requires requests~=2.23.0, but you have requests 2.28.1 which is incompatible.\n",
            "datascience 0.10.6 requires folium==0.2.1, but you have folium 0.8.3 which is incompatible.\u001b[0m\n",
            "Successfully installed Deprecated-1.2.13 python-tsp-0.3.0 requests-2.28.1 tsplib95-0.7.1\n"
          ]
        }
      ],
      "source": [
        "!pip install python-tsp"
      ]
    },
    {
      "cell_type": "markdown",
      "source": [
        "To solve the TSP I choose a dynamic programming approach since it both an exact algorithm and the number of pallet slots shouldn't be that big that time becomes a problem.\n",
        "\n",
        "The TSP will have the euclidean distance as its edges. This could maybe be swapped for a optimal control \"bang-bang\" approach that takes in to an account the maximum acceleration/deceleration that the machine needs to do between each slot."
      ],
      "metadata": {
        "id": "57ukOw-EeTbd"
      }
    },
    {
      "cell_type": "code",
      "source": [
        "import numpy as np\n",
        "from python_tsp.exact import solve_tsp_dynamic_programming\n",
        "from python_tsp.distances import euclidean_distance_matrix"
      ],
      "metadata": {
        "id": "cPv9n4tBg82l"
      },
      "execution_count": 6,
      "outputs": []
    },
    {
      "cell_type": "markdown",
      "source": [
        "The order is a list of items that are tagged by a specific number. We also take into an account the expected number of each order each day. So if an order does not overlap much with the other orders but might be a very frequent order the algorithm should place that unique item closer to the machine's starting point."
      ],
      "metadata": {
        "id": "dtVDqG3Ne1x-"
      }
    },
    {
      "cell_type": "code",
      "source": [
        "order_1 = [9,4,3,5,7]\n",
        "order_2 = [7,4,9]\n",
        "order_3 = [7]\n",
        "\n",
        "expt_order_1_amount = 35\n",
        "expt_order_2_amount = 90\n",
        "expt_order_3_amount = 85\n",
        "\n",
        "orders = [[order_1,expt_order_1_amount],[order_2,expt_order_2_amount],[order_3,expt_order_3_amount]]\n",
        "\n",
        "height = 3\n",
        "width = 3"
      ],
      "metadata": {
        "id": "eHtl01Jc1WJm"
      },
      "execution_count": 7,
      "outputs": []
    },
    {
      "cell_type": "markdown",
      "source": [
        "To update the placement a simple tabu search is introduced (a more advanced tabu search could be used for larger problems). It takes a vector of the placements (a flatten matrix) and swaps two adjacent items."
      ],
      "metadata": {
        "id": "pE2SVDTnfOip"
      }
    },
    {
      "cell_type": "code",
      "source": [
        "def arr_to_matrix(arr, height = height, width=width):\n",
        "  return np.flip(np.asarray(arr).reshape((height,  width)), axis = 0)\n",
        "\n",
        "def coord(arr,order):\n",
        "  temp = []\n",
        "  matrix = arr_to_matrix(arr)\n",
        "  for i in order:\n",
        "    res = np.where(matrix==i)\n",
        "    temp.append([np.abs(int(res[0])-(height-1)),int(res[1])+1])\n",
        "  return temp\n",
        "\n",
        "def dist_matrix(nodes):\n",
        "  nodes.reverse()\n",
        "  nodes.append([0,0])\n",
        "  nodes.reverse()\n",
        "  sources = np.array(nodes)\n",
        "  destinations = np.array(nodes)\n",
        "  return euclidean_distance_matrix(sources, destinations)\n",
        "\n",
        "def dp(distance_matrix):\n",
        "  permutation, distance = solve_tsp_dynamic_programming(distance_matrix)\n",
        "  return distance\n",
        "\n",
        "def neighbor_function(arry): #make better if many empty slots\n",
        "  arr = arry.copy()\n",
        "  point = np.random.randint(0, len(arr))\n",
        "  if point == 0:\n",
        "    dir = 1\n",
        "  elif point == len(arr)-1:\n",
        "    dir = 0\n",
        "  else:\n",
        "    dir = np.random.randint(0, 2)\n",
        "  \n",
        "  if dir == 0:\n",
        "    arr[point],arr[point-1] = arr[point-1],arr[point]\n",
        "  else:\n",
        "    arr[point],arr[point+1] = arr[point+1],arr[point]\n",
        "  return arr\n",
        "\n",
        "def fitness(arr):\n",
        "  fitness = 0\n",
        "  for i in orders:\n",
        "    nodes = coord(arr, i[0])\n",
        "    distance_matrix = dist_matrix(nodes)\n",
        "    fitness += i[1]*dp(distance_matrix)\n",
        "  return fitness\n",
        "\n",
        "\n",
        "def tabu_search(init_state, max_iter, tabu_size, neighbor_amount):\n",
        "  best = init_state\n",
        "  best_fit = fitness(init_state)\n",
        "\n",
        "  current = init_state\n",
        "  current_fit = fitness(init_state)\n",
        "  \n",
        "  tabulist = [init_state]\n",
        "\n",
        "  for j in range(max_iter):\n",
        "    tresh = np.inf\n",
        "    neighbors = []\n",
        "    \n",
        "    for _ in range(neighbor_amount):\n",
        "      neighbors.append(neighbor_function(current))\n",
        "\n",
        "    for i in neighbors:\n",
        "      if i not in tabulist:\n",
        "        \n",
        "        temp_fit = fitness(i)\n",
        "        if temp_fit < tresh:\n",
        "          \n",
        "          current = i\n",
        "          current_fit = temp_fit\n",
        "          thresh = temp_fit\n",
        "          \n",
        "\n",
        "    if current_fit < best_fit:\n",
        "      best = current\n",
        "      best_fit = current_fit\n",
        "\n",
        "    tabulist.append(current)\n",
        "\n",
        "    if len(tabulist)>tabu_size:\n",
        "      tabulist.pop(0)\n",
        "  return best, best_fit"
      ],
      "metadata": {
        "id": "gJj7YDDbi4X5"
      },
      "execution_count": 8,
      "outputs": []
    },
    {
      "cell_type": "code",
      "source": [
        "a,b = tabu_search([1,2,3,4,5,6,7,8,9], 1000, 3, 5)"
      ],
      "metadata": {
        "id": "P2LlEUmcYHWK"
      },
      "execution_count": 9,
      "outputs": []
    },
    {
      "cell_type": "code",
      "source": [
        "init = [1,2,3,4,5,6,7,8,9]\n",
        "print('Init layout')\n",
        "print(arr_to_matrix(init))\n",
        "print('Init fitness', fitness(init))"
      ],
      "metadata": {
        "colab": {
          "base_uri": "https://localhost:8080/"
        },
        "id": "qeVbWY0IOM9R",
        "outputId": "c56ff3a5-ba8d-41c4-b8c2-c8753b36fce7"
      },
      "execution_count": 10,
      "outputs": [
        {
          "output_type": "stream",
          "name": "stdout",
          "text": [
            "Init layout\n",
            "[[7 8 9]\n",
            " [4 5 6]\n",
            " [1 2 3]]\n",
            "Init fitness 1442.1603413171142\n"
          ]
        }
      ]
    },
    {
      "cell_type": "code",
      "source": [
        "print('Optimized layout')\n",
        "print(arr_to_matrix(a))\n",
        "print('Optimized fitness', b)"
      ],
      "metadata": {
        "colab": {
          "base_uri": "https://localhost:8080/"
        },
        "id": "e3B5VcP0OJTJ",
        "outputId": "22e12532-7ac7-4216-965c-2ca246726481"
      },
      "execution_count": 11,
      "outputs": [
        {
          "output_type": "stream",
          "name": "stdout",
          "text": [
            "Optimized layout\n",
            "[[2 6 3]\n",
            " [9 5 1]\n",
            " [7 4 8]]\n",
            "Optimized fitness 886.8157698057664\n"
          ]
        }
      ]
    }
  ]
}